{
 "cells": [
  {
   "attachments": {
    "230bba7f-3b2b-4cfb-82d8-2b6e9358158f.jpeg": {
     "image/jpeg": "[encoded data removed]"
    }
   },
   "cell_type": "markdown",
   "id": "657f4db4",
   "metadata": {
    "papermill": {
     "duration": 0.005504,
     "end_time": "2024-12-25T18:58:21.638047",
     "exception": false,
     "start_time": "2024-12-25T18:58:21.632543",
     "status": "completed"
    },
    "tags": []
   },
   "source": [
    "![indir.jpeg](attachment:230bba7f-3b2b-4cfb-82d8-2b6e9358158f.jpeg)"
   ]
  },
  {
   "cell_type": "code",
   "execution_count": 1,
   "id": "b2fb3f3d",
   "metadata": {
    "_cell_guid": "b1076dfc-b9ad-4769-8c92-a6c4dae69d19",
    "_uuid": "8f2839f25d086af736a60e9eeb907d3b93b6e0e5",
    "execution": {
     "iopub.execute_input": "2024-12-25T18:58:21.649270Z",
     "iopub.status.busy": "2024-12-25T18:58:21.648851Z",
     "iopub.status.idle": "2024-12-25T18:58:33.430273Z",
     "shell.execute_reply": "2024-12-25T18:58:33.428953Z"
    },
    "papermill": {
     "duration": 11.788968,
     "end_time": "2024-12-25T18:58:33.432047",
     "exception": false,
     "start_time": "2024-12-25T18:58:21.643079",
     "status": "completed"
    },
    "tags": []
   },
   "outputs": [
    {
     "name": "stdout",
     "output_type": "stream",
     "text": [
      "/kaggle/input/apple-stock-market-data-19802024/AAPL_historical_data.csv\n"
     ]
    }
   ],
   "source": [
    "# This Python 3 environment comes with many helpful analytics libraries installed\n",
    "# It is defined by the kaggle/python Docker image: https://github.com/kaggle/docker-python\n",
    "# For example, here's several helpful packages to load\n",
    "\n",
    "import numpy as np # linear algebra\n",
    "import pandas as pd\n",
    "import matplotlib.pyplot as plt\n",
    "import seaborn as sns\n",
    "import numpy as np\n",
    "import pandas as pd\n",
    "from sklearn.preprocessing import MinMaxScaler\n",
    "from tensorflow.keras.models import Sequential\n",
    "from tensorflow.keras.layers import LSTM, Dense, Dropout\n",
    "from sklearn.cluster import KMeans\n",
    "from sklearn.preprocessing import StandardScaler\n",
    "\n",
    "import warnings\n",
    "warnings.filterwarnings(\"ignore\")\n",
    "\n",
    "\n",
    "# Zaman serisi dizi oluşturma\n",
    "# data processing, CSV file I/O (e.g. pd.read_csv)\n",
    "\n",
    "# Input data files are available in the read-only \"../input/\" directory\n",
    "# For example, running this (by clicking run or pressing Shift+Enter) will list all files under the input directory\n",
    "\n",
    "import os\n",
    "for dirname, _, filenames in os.walk('/kaggle/input'):\n",
    "    for filename in filenames:\n",
    "        print(os.path.join(dirname, filename))\n",
    "\n",
    "# You can write up to 20GB to the current directory (/kaggle/working/) that gets preserved as output when you create a version using \"Save & Run All\" \n",
    "# You can also write temporary files to /kaggle/temp/, but they won't be saved outside of the current session"
   ]
  },
  {
   "cell_type": "markdown",
   "id": "74f81e1c",
   "metadata": {
    "papermill": {
     "duration": 0.004305,
     "end_time": "2024-12-25T18:58:33.441180",
     "exception": false,
     "start_time": "2024-12-25T18:58:33.436875",
     "status": "completed"
    },
    "tags": []
   },
   "source": [
    "# DATA LOAD"
   ]
  },
  {
   "cell_type": "code",
   "execution_count": 2,
   "id": "8b635fd9",
   "metadata": {
    "execution": {
     "iopub.execute_input": "2024-12-25T18:58:33.452131Z",
     "iopub.status.busy": "2024-12-25T18:58:33.451387Z",
     "iopub.status.idle": "2024-12-25T18:58:33.503973Z",
     "shell.execute_reply": "2024-12-25T18:58:33.502813Z"
    },
    "papermill": {
     "duration": 0.060154,
     "end_time": "2024-12-25T18:58:33.505992",
     "exception": false,
     "start_time": "2024-12-25T18:58:33.445838",
     "status": "completed"
    },
    "tags": []
   },
   "outputs": [],
   "source": [
    "df = pd.read_csv(\"/kaggle/input/apple-stock-market-data-19802024/AAPL_historical_data.csv\")"
   ]
  },
  {
   "cell_type": "code",
   "execution_count": 3,
   "id": "395195c1",
   "metadata": {
    "execution": {
     "iopub.execute_input": "2024-12-25T18:58:33.516720Z",
     "iopub.status.busy": "2024-12-25T18:58:33.516312Z",
     "iopub.status.idle": "2024-12-25T18:58:33.580129Z",
     "shell.execute_reply": "2024-12-25T18:58:33.579278Z"
    },
    "papermill": {
     "duration": 0.071244,
     "end_time": "2024-12-25T18:58:33.582046",
     "exception": false,
     "start_time": "2024-12-25T18:58:33.510802",
     "status": "completed"
    },
    "tags": []
   },
   "outputs": [],
   "source": [
    "df['Date'] = pd.to_datetime(df['Date'])"
   ]
  },
  {
   "cell_type": "markdown",
   "id": "94f5b7b8",
   "metadata": {
    "papermill": {
     "duration": 0.004217,
     "end_time": "2024-12-25T18:58:33.591191",
     "exception": false,
     "start_time": "2024-12-25T18:58:33.586974",
     "status": "completed"
    },
    "tags": []
   },
   "source": [
    "**VERİ SETİNE GENEL BAKIŞ:TANIMLAYICI İSTATİSTİKLER**"
   ]
  },
  {
   "cell_type": "code",
   "execution_count": 4,
   "id": "4d56d988",
   "metadata": {
    "execution": {
     "iopub.execute_input": "2024-12-25T18:58:33.601538Z",
     "iopub.status.busy": "2024-12-25T18:58:33.601140Z",
     "iopub.status.idle": "2024-12-25T18:58:33.607372Z",
     "shell.execute_reply": "2024-12-25T18:58:33.606243Z"
    },
    "papermill": {
     "duration": 0.013425,
     "end_time": "2024-12-25T18:58:33.609114",
     "exception": false,
     "start_time": "2024-12-25T18:58:33.595689",
     "status": "completed"
    },
    "tags": []
   },
   "outputs": [],
   "source": [
    "def veritanımlama(dataframe,head=True):\n",
    "    print(\"------------------------------------SHAPE----------------------------------------------\")\n",
    "    print(dataframe.shape)\n",
    "    print(\"------------------------------------İNFO-----------------------------------------------\")\n",
    "    print(dataframe.info())\n",
    "    print(\"------------------------------------ISNULL---------------------------------------------\")\n",
    "    print(dataframe.isnull().sum().sort_values(ascending=False))\n",
    "    print(\"------------------------------------NUNİQUE--------------------------------------------\")\n",
    "    print(dataframe.nunique())\n",
    "    print(\"-------------------------------------DESCRİBE-------------------------------------------\")\n",
    "    display(dataframe.describe())\n",
    "    if head:\n",
    "        print(\"--------------------------------HEAD------------------------------------------------\")\n",
    "        display(dataframe.head())\n",
    "        print(\"---------------------------------TAIL------------------------------------------------\")\n",
    "        display(dataframe.tail())"
   ]
  },
  {
   "cell_type": "code",
   "execution_count": 5,
   "id": "13c74bf7",
   "metadata": {
    "execution": {
     "iopub.execute_input": "2024-12-25T18:58:33.620062Z",
     "iopub.status.busy": "2024-12-25T18:58:33.619706Z",
     "iopub.status.idle": "2024-12-25T18:58:33.706951Z",
     "shell.execute_reply": "2024-12-25T18:58:33.705840Z"
    },
    "papermill": {
     "duration": 0.094544,
     "end_time": "2024-12-25T18:58:33.708593",
     "exception": false,
     "start_time": "2024-12-25T18:58:33.614049",
     "status": "completed"
    },
    "tags": []
   },
   "outputs": [
    {
     "name": "stdout",
     "output_type": "stream",
     "text": [
      "------------------------------------SHAPE----------------------------------------------\n",
      "(11094, 5)\n",
      "------------------------------------İNFO-----------------------------------------------\n",
      "<class 'pandas.core.frame.DataFrame'>\n",
      "RangeIndex: 11094 entries, 0 to 11093\n",
      "Data columns (total 5 columns):\n",
      " #   Column  Non-Null Count  Dtype  \n",
      "---  ------  --------------  -----  \n",
      " 0   Date    11094 non-null  object \n",
      " 1   Open    11094 non-null  float64\n",
      " 2   High    11094 non-null  float64\n",
      " 3   Low     11094 non-null  float64\n",
      " 4   Close   11094 non-null  float64\n",
      "dtypes: float64(4), object(1)\n",
      "memory usage: 433.5+ KB\n",
      "None\n",
      "------------------------------------ISNULL---------------------------------------------\n",
      "Date     0\n",
      "Open     0\n",
      "High     0\n",
      "Low      0\n",
      "Close    0\n",
      "dtype: int64\n",
      "------------------------------------NUNİQUE--------------------------------------------\n",
      "Date     11094\n",
      "Open     10472\n",
      "High     10304\n",
      "Low      10117\n",
      "Close     8084\n",
      "dtype: int64\n",
      "-------------------------------------DESCRİBE-------------------------------------------\n"
     ]
    },
    {
     "data": {
      "text/html": [
       "<div>\n",
       "<style scoped>\n",
       "    .dataframe tbody tr th:only-of-type {\n",
       "        vertical-align: middle;\n",
       "    }\n",
       "\n",
       "    .dataframe tbody tr th {\n",
       "        vertical-align: top;\n",
       "    }\n",
       "\n",
       "    .dataframe thead th {\n",
       "        text-align: right;\n",
       "    }\n",
       "</style>\n",
       "<table border=\"1\" class=\"dataframe\">\n",
       "  <thead>\n",
       "    <tr style=\"text-align: right;\">\n",
       "      <th></th>\n",
       "      <th>Open</th>\n",
       "      <th>High</th>\n",
       "      <th>Low</th>\n",
       "      <th>Close</th>\n",
       "    </tr>\n",
       "  </thead>\n",
       "  <tbody>\n",
       "    <tr>\n",
       "      <th>count</th>\n",
       "      <td>11094.000000</td>\n",
       "      <td>11094.000000</td>\n",
       "      <td>11094.000000</td>\n",
       "      <td>11094.000000</td>\n",
       "    </tr>\n",
       "    <tr>\n",
       "      <th>mean</th>\n",
       "      <td>23.236654</td>\n",
       "      <td>23.484468</td>\n",
       "      <td>23.001626</td>\n",
       "      <td>23.254564</td>\n",
       "    </tr>\n",
       "    <tr>\n",
       "      <th>std</th>\n",
       "      <td>49.129620</td>\n",
       "      <td>49.645173</td>\n",
       "      <td>48.654514</td>\n",
       "      <td>49.178271</td>\n",
       "    </tr>\n",
       "    <tr>\n",
       "      <th>min</th>\n",
       "      <td>0.038245</td>\n",
       "      <td>0.038245</td>\n",
       "      <td>0.037815</td>\n",
       "      <td>0.037815</td>\n",
       "    </tr>\n",
       "    <tr>\n",
       "      <th>25%</th>\n",
       "      <td>0.242896</td>\n",
       "      <td>0.248067</td>\n",
       "      <td>0.237920</td>\n",
       "      <td>0.242953</td>\n",
       "    </tr>\n",
       "    <tr>\n",
       "      <th>50%</th>\n",
       "      <td>0.442782</td>\n",
       "      <td>0.451501</td>\n",
       "      <td>0.435876</td>\n",
       "      <td>0.444634</td>\n",
       "    </tr>\n",
       "    <tr>\n",
       "      <th>75%</th>\n",
       "      <td>18.083088</td>\n",
       "      <td>18.278464</td>\n",
       "      <td>17.904287</td>\n",
       "      <td>18.107803</td>\n",
       "    </tr>\n",
       "    <tr>\n",
       "      <th>max</th>\n",
       "      <td>247.960007</td>\n",
       "      <td>250.800003</td>\n",
       "      <td>246.259995</td>\n",
       "      <td>248.130005</td>\n",
       "    </tr>\n",
       "  </tbody>\n",
       "</table>\n",
       "</div>"
      ],
      "text/plain": [
       "               Open          High           Low         Close\n",
       "count  11094.000000  11094.000000  11094.000000  11094.000000\n",
       "mean      23.236654     23.484468     23.001626     23.254564\n",
       "std       49.129620     49.645173     48.654514     49.178271\n",
       "min        0.038245      0.038245      0.037815      0.037815\n",
       "25%        0.242896      0.248067      0.237920      0.242953\n",
       "50%        0.442782      0.451501      0.435876      0.444634\n",
       "75%       18.083088     18.278464     17.904287     18.107803\n",
       "max      247.960007    250.800003    246.259995    248.130005"
      ]
     },
     "metadata": {},
     "output_type": "display_data"
    },
    {
     "name": "stdout",
     "output_type": "stream",
     "text": [
      "--------------------------------HEAD------------------------------------------------\n"
     ]
    },
    {
     "data": {
      "text/html": [
       "<div>\n",
       "<style scoped>\n",
       "    .dataframe tbody tr th:only-of-type {\n",
       "        vertical-align: middle;\n",
       "    }\n",
       "\n",
       "    .dataframe tbody tr th {\n",
       "        vertical-align: top;\n",
       "    }\n",
       "\n",
       "    .dataframe thead th {\n",
       "        text-align: right;\n",
       "    }\n",
       "</style>\n",
       "<table border=\"1\" class=\"dataframe\">\n",
       "  <thead>\n",
       "    <tr style=\"text-align: right;\">\n",
       "      <th></th>\n",
       "      <th>Date</th>\n",
       "      <th>Open</th>\n",
       "      <th>High</th>\n",
       "      <th>Low</th>\n",
       "      <th>Close</th>\n",
       "    </tr>\n",
       "  </thead>\n",
       "  <tbody>\n",
       "    <tr>\n",
       "      <th>0</th>\n",
       "      <td>1980-12-12 00:00:00-05:00</td>\n",
       "      <td>0.098834</td>\n",
       "      <td>0.099264</td>\n",
       "      <td>0.098834</td>\n",
       "      <td>0.098834</td>\n",
       "    </tr>\n",
       "    <tr>\n",
       "      <th>1</th>\n",
       "      <td>1980-12-15 00:00:00-05:00</td>\n",
       "      <td>0.094108</td>\n",
       "      <td>0.094108</td>\n",
       "      <td>0.093678</td>\n",
       "      <td>0.093678</td>\n",
       "    </tr>\n",
       "    <tr>\n",
       "      <th>2</th>\n",
       "      <td>1980-12-16 00:00:00-05:00</td>\n",
       "      <td>0.087232</td>\n",
       "      <td>0.087232</td>\n",
       "      <td>0.086802</td>\n",
       "      <td>0.086802</td>\n",
       "    </tr>\n",
       "    <tr>\n",
       "      <th>3</th>\n",
       "      <td>1980-12-17 00:00:00-05:00</td>\n",
       "      <td>0.088951</td>\n",
       "      <td>0.089381</td>\n",
       "      <td>0.088951</td>\n",
       "      <td>0.088951</td>\n",
       "    </tr>\n",
       "    <tr>\n",
       "      <th>4</th>\n",
       "      <td>1980-12-18 00:00:00-05:00</td>\n",
       "      <td>0.091530</td>\n",
       "      <td>0.091959</td>\n",
       "      <td>0.091530</td>\n",
       "      <td>0.091530</td>\n",
       "    </tr>\n",
       "  </tbody>\n",
       "</table>\n",
       "</div>"
      ],
      "text/plain": [
       "                        Date      Open      High       Low     Close\n",
       "0  1980-12-12 00:00:00-05:00  0.098834  0.099264  0.098834  0.098834\n",
       "1  1980-12-15 00:00:00-05:00  0.094108  0.094108  0.093678  0.093678\n",
       "2  1980-12-16 00:00:00-05:00  0.087232  0.087232  0.086802  0.086802\n",
       "3  1980-12-17 00:00:00-05:00  0.088951  0.089381  0.088951  0.088951\n",
       "4  1980-12-18 00:00:00-05:00  0.091530  0.091959  0.091530  0.091530"
      ]
     },
     "metadata": {},
     "output_type": "display_data"
    },
    {
     "name": "stdout",
     "output_type": "stream",
     "text": [
      "---------------------------------TAIL------------------------------------------------\n"
     ]
    },
    {
     "data": {
      "text/html": [
       "<div>\n",
       "<style scoped>\n",
       "    .dataframe tbody tr th:only-of-type {\n",
       "        vertical-align: middle;\n",
       "    }\n",
       "\n",
       "    .dataframe tbody tr th {\n",
       "        vertical-align: top;\n",
       "    }\n",
       "\n",
       "    .dataframe thead th {\n",
       "        text-align: right;\n",
       "    }\n",
       "</style>\n",
       "<table border=\"1\" class=\"dataframe\">\n",
       "  <thead>\n",
       "    <tr style=\"text-align: right;\">\n",
       "      <th></th>\n",
       "      <th>Date</th>\n",
       "      <th>Open</th>\n",
       "      <th>High</th>\n",
       "      <th>Low</th>\n",
       "      <th>Close</th>\n",
       "    </tr>\n",
       "  </thead>\n",
       "  <tbody>\n",
       "    <tr>\n",
       "      <th>11089</th>\n",
       "      <td>2024-12-09 00:00:00-05:00</td>\n",
       "      <td>241.830002</td>\n",
       "      <td>247.240005</td>\n",
       "      <td>241.750000</td>\n",
       "      <td>246.750000</td>\n",
       "    </tr>\n",
       "    <tr>\n",
       "      <th>11090</th>\n",
       "      <td>2024-12-10 00:00:00-05:00</td>\n",
       "      <td>246.889999</td>\n",
       "      <td>248.210007</td>\n",
       "      <td>245.339996</td>\n",
       "      <td>247.770004</td>\n",
       "    </tr>\n",
       "    <tr>\n",
       "      <th>11091</th>\n",
       "      <td>2024-12-11 00:00:00-05:00</td>\n",
       "      <td>247.960007</td>\n",
       "      <td>250.800003</td>\n",
       "      <td>246.259995</td>\n",
       "      <td>246.490005</td>\n",
       "    </tr>\n",
       "    <tr>\n",
       "      <th>11092</th>\n",
       "      <td>2024-12-12 00:00:00-05:00</td>\n",
       "      <td>246.889999</td>\n",
       "      <td>248.740005</td>\n",
       "      <td>245.679993</td>\n",
       "      <td>247.960007</td>\n",
       "    </tr>\n",
       "    <tr>\n",
       "      <th>11093</th>\n",
       "      <td>2024-12-13 00:00:00-05:00</td>\n",
       "      <td>247.820007</td>\n",
       "      <td>249.289993</td>\n",
       "      <td>246.240005</td>\n",
       "      <td>248.130005</td>\n",
       "    </tr>\n",
       "  </tbody>\n",
       "</table>\n",
       "</div>"
      ],
      "text/plain": [
       "                            Date        Open        High         Low  \\\n",
       "11089  2024-12-09 00:00:00-05:00  241.830002  247.240005  241.750000   \n",
       "11090  2024-12-10 00:00:00-05:00  246.889999  248.210007  245.339996   \n",
       "11091  2024-12-11 00:00:00-05:00  247.960007  250.800003  246.259995   \n",
       "11092  2024-12-12 00:00:00-05:00  246.889999  248.740005  245.679993   \n",
       "11093  2024-12-13 00:00:00-05:00  247.820007  249.289993  246.240005   \n",
       "\n",
       "            Close  \n",
       "11089  246.750000  \n",
       "11090  247.770004  \n",
       "11091  246.490005  \n",
       "11092  247.960007  \n",
       "11093  248.130005  "
      ]
     },
     "metadata": {},
     "output_type": "display_data"
    }
   ],
   "source": [
    "veritanımlama(df,head=True)"
   ]
  },
  {
   "cell_type": "markdown",
   "id": "0b9f90bf",
   "metadata": {
    "papermill": {
     "duration": 0.005163,
     "end_time": "2024-12-25T18:58:33.719242",
     "exception": false,
     "start_time": "2024-12-25T18:58:33.714079",
     "status": "completed"
    },
    "tags": []
   },
   "source": [
    "Veri"
   ]
  },
  {
   "cell_type": "code",
   "execution_count": 6,
   "id": "594cfd8c",
   "metadata": {
    "execution": {
     "iopub.execute_input": "2024-12-25T18:58:33.731782Z",
     "iopub.status.busy": "2024-12-25T18:58:33.731373Z",
     "iopub.status.idle": "2024-12-25T18:58:33.745932Z",
     "shell.execute_reply": "2024-12-25T18:58:33.744790Z"
    },
    "papermill": {
     "duration": 0.022649,
     "end_time": "2024-12-25T18:58:33.747689",
     "exception": false,
     "start_time": "2024-12-25T18:58:33.725040",
     "status": "completed"
    },
    "tags": []
   },
   "outputs": [
    {
     "data": {
      "text/html": [
       "<div>\n",
       "<style scoped>\n",
       "    .dataframe tbody tr th:only-of-type {\n",
       "        vertical-align: middle;\n",
       "    }\n",
       "\n",
       "    .dataframe tbody tr th {\n",
       "        vertical-align: top;\n",
       "    }\n",
       "\n",
       "    .dataframe thead th {\n",
       "        text-align: right;\n",
       "    }\n",
       "</style>\n",
       "<table border=\"1\" class=\"dataframe\">\n",
       "  <thead>\n",
       "    <tr style=\"text-align: right;\">\n",
       "      <th></th>\n",
       "      <th>Date</th>\n",
       "      <th>Open</th>\n",
       "      <th>High</th>\n",
       "      <th>Low</th>\n",
       "      <th>Close</th>\n",
       "    </tr>\n",
       "  </thead>\n",
       "  <tbody>\n",
       "    <tr>\n",
       "      <th>0</th>\n",
       "      <td>1980-12-12 00:00:00-05:00</td>\n",
       "      <td>0.098834</td>\n",
       "      <td>0.099264</td>\n",
       "      <td>0.098834</td>\n",
       "      <td>0.098834</td>\n",
       "    </tr>\n",
       "    <tr>\n",
       "      <th>1</th>\n",
       "      <td>1980-12-15 00:00:00-05:00</td>\n",
       "      <td>0.094108</td>\n",
       "      <td>0.094108</td>\n",
       "      <td>0.093678</td>\n",
       "      <td>0.093678</td>\n",
       "    </tr>\n",
       "    <tr>\n",
       "      <th>2</th>\n",
       "      <td>1980-12-16 00:00:00-05:00</td>\n",
       "      <td>0.087232</td>\n",
       "      <td>0.087232</td>\n",
       "      <td>0.086802</td>\n",
       "      <td>0.086802</td>\n",
       "    </tr>\n",
       "    <tr>\n",
       "      <th>3</th>\n",
       "      <td>1980-12-17 00:00:00-05:00</td>\n",
       "      <td>0.088951</td>\n",
       "      <td>0.089381</td>\n",
       "      <td>0.088951</td>\n",
       "      <td>0.088951</td>\n",
       "    </tr>\n",
       "    <tr>\n",
       "      <th>4</th>\n",
       "      <td>1980-12-18 00:00:00-05:00</td>\n",
       "      <td>0.091530</td>\n",
       "      <td>0.091959</td>\n",
       "      <td>0.091530</td>\n",
       "      <td>0.091530</td>\n",
       "    </tr>\n",
       "    <tr>\n",
       "      <th>...</th>\n",
       "      <td>...</td>\n",
       "      <td>...</td>\n",
       "      <td>...</td>\n",
       "      <td>...</td>\n",
       "      <td>...</td>\n",
       "    </tr>\n",
       "    <tr>\n",
       "      <th>11089</th>\n",
       "      <td>2024-12-09 00:00:00-05:00</td>\n",
       "      <td>241.830002</td>\n",
       "      <td>247.240005</td>\n",
       "      <td>241.750000</td>\n",
       "      <td>246.750000</td>\n",
       "    </tr>\n",
       "    <tr>\n",
       "      <th>11090</th>\n",
       "      <td>2024-12-10 00:00:00-05:00</td>\n",
       "      <td>246.889999</td>\n",
       "      <td>248.210007</td>\n",
       "      <td>245.339996</td>\n",
       "      <td>247.770004</td>\n",
       "    </tr>\n",
       "    <tr>\n",
       "      <th>11091</th>\n",
       "      <td>2024-12-11 00:00:00-05:00</td>\n",
       "      <td>247.960007</td>\n",
       "      <td>250.800003</td>\n",
       "      <td>246.259995</td>\n",
       "      <td>246.490005</td>\n",
       "    </tr>\n",
       "    <tr>\n",
       "      <th>11092</th>\n",
       "      <td>2024-12-12 00:00:00-05:00</td>\n",
       "      <td>246.889999</td>\n",
       "      <td>248.740005</td>\n",
       "      <td>245.679993</td>\n",
       "      <td>247.960007</td>\n",
       "    </tr>\n",
       "    <tr>\n",
       "      <th>11093</th>\n",
       "      <td>2024-12-13 00:00:00-05:00</td>\n",
       "      <td>247.820007</td>\n",
       "      <td>249.289993</td>\n",
       "      <td>246.240005</td>\n",
       "      <td>248.130005</td>\n",
       "    </tr>\n",
       "  </tbody>\n",
       "</table>\n",
       "<p>11094 rows × 5 columns</p>\n",
       "</div>"
      ],
      "text/plain": [
       "                            Date        Open        High         Low  \\\n",
       "0      1980-12-12 00:00:00-05:00    0.098834    0.099264    0.098834   \n",
       "1      1980-12-15 00:00:00-05:00    0.094108    0.094108    0.093678   \n",
       "2      1980-12-16 00:00:00-05:00    0.087232    0.087232    0.086802   \n",
       "3      1980-12-17 00:00:00-05:00    0.088951    0.089381    0.088951   \n",
       "4      1980-12-18 00:00:00-05:00    0.091530    0.091959    0.091530   \n",
       "...                          ...         ...         ...         ...   \n",
       "11089  2024-12-09 00:00:00-05:00  241.830002  247.240005  241.750000   \n",
       "11090  2024-12-10 00:00:00-05:00  246.889999  248.210007  245.339996   \n",
       "11091  2024-12-11 00:00:00-05:00  247.960007  250.800003  246.259995   \n",
       "11092  2024-12-12 00:00:00-05:00  246.889999  248.740005  245.679993   \n",
       "11093  2024-12-13 00:00:00-05:00  247.820007  249.289993  246.240005   \n",
       "\n",
       "            Close  \n",
       "0        0.098834  \n",
       "1        0.093678  \n",
       "2        0.086802  \n",
       "3        0.088951  \n",
       "4        0.091530  \n",
       "...           ...  \n",
       "11089  246.750000  \n",
       "11090  247.770004  \n",
       "11091  246.490005  \n",
       "11092  247.960007  \n",
       "11093  248.130005  \n",
       "\n",
       "[11094 rows x 5 columns]"
      ]
     },
     "execution_count": 6,
     "metadata": {},
     "output_type": "execute_result"
    }
   ],
   "source": [
    "df"
   ]
  },
  {
   "cell_type": "code",
   "execution_count": 7,
   "id": "d4ad8410",
   "metadata": {
    "execution": {
     "iopub.execute_input": "2024-12-25T18:58:33.760586Z",
     "iopub.status.busy": "2024-12-25T18:58:33.760249Z",
     "iopub.status.idle": "2024-12-25T18:58:33.774353Z",
     "shell.execute_reply": "2024-12-25T18:58:33.773172Z"
    },
    "papermill": {
     "duration": 0.022264,
     "end_time": "2024-12-25T18:58:33.775960",
     "exception": false,
     "start_time": "2024-12-25T18:58:33.753696",
     "status": "completed"
    },
    "tags": []
   },
   "outputs": [
    {
     "name": "stdout",
     "output_type": "stream",
     "text": [
      "       Open      High       Low     Close\n",
      "0  0.000244  0.000243  0.000248  0.000246\n",
      "1  0.000225  0.000223  0.000227  0.000225\n",
      "2  0.000198  0.000195  0.000199  0.000197\n",
      "3  0.000205  0.000204  0.000208  0.000206\n",
      "4  0.000215  0.000214  0.000218  0.000217\n"
     ]
    }
   ],
   "source": [
    "# MinMaxScaler kullanımı\n",
    "scaler = MinMaxScaler()\n",
    "data_scaled = scaler.fit_transform(df[['Open', 'High', 'Low', 'Close']])\n",
    "\n",
    "# Ölçeklenmiş veriyi bir DataFrame olarak saklayın\n",
    "df_scaled = pd.DataFrame(data_scaled, columns=['Open', 'High', 'Low', 'Close'], index=df.index)\n",
    "\n",
    "# Ölçeklenmiş veriyi inceleyin\n",
    "print(df_scaled.head())"
   ]
  },
  {
   "cell_type": "code",
   "execution_count": 8,
   "id": "6bb9bdf6",
   "metadata": {
    "execution": {
     "iopub.execute_input": "2024-12-25T18:58:33.789265Z",
     "iopub.status.busy": "2024-12-25T18:58:33.788833Z",
     "iopub.status.idle": "2024-12-25T18:58:33.809913Z",
     "shell.execute_reply": "2024-12-25T18:58:33.808629Z"
    },
    "papermill": {
     "duration": 0.029966,
     "end_time": "2024-12-25T18:58:33.811923",
     "exception": false,
     "start_time": "2024-12-25T18:58:33.781957",
     "status": "completed"
    },
    "tags": []
   },
   "outputs": [
    {
     "name": "stdout",
     "output_type": "stream",
     "text": [
      "Girdi şekli: (11084, 10)\n",
      "Çıkış şekli: (11084,)\n"
     ]
    }
   ],
   "source": [
    "# Giriş ve çıkış verilerini oluşturmak\n",
    "def create_features_and_labels(data, n_steps=10):\n",
    "    X, y = [], []\n",
    "    for i in range(n_steps, len(data)):\n",
    "        X.append(data[i-n_steps:i])\n",
    "        y.append(data[i])\n",
    "    return np.array(X), np.array(y)\n",
    "\n",
    "# Close sütunu üzerinden örnek oluşturma\n",
    "n_steps = 10  # Göz önünde bulundurulacak zaman adımı\n",
    "X, y = create_features_and_labels(df_scaled['Close'].values, n_steps)\n",
    "\n",
    "print(\"Girdi şekli:\", X.shape)\n",
    "print(\"Çıkış şekli:\", y.shape)\n"
   ]
  },
  {
   "cell_type": "markdown",
   "id": "141b33c1",
   "metadata": {
    "papermill": {
     "duration": 0.005669,
     "end_time": "2024-12-25T18:58:33.823508",
     "exception": false,
     "start_time": "2024-12-25T18:58:33.817839",
     "status": "completed"
    },
    "tags": []
   },
   "source": [
    "# MODEL"
   ]
  },
  {
   "cell_type": "code",
   "execution_count": 9,
   "id": "7de4ac5a",
   "metadata": {
    "execution": {
     "iopub.execute_input": "2024-12-25T18:58:33.836300Z",
     "iopub.status.busy": "2024-12-25T18:58:33.835918Z",
     "iopub.status.idle": "2024-12-25T19:00:11.396306Z",
     "shell.execute_reply": "2024-12-25T19:00:11.395042Z"
    },
    "papermill": {
     "duration": 97.569195,
     "end_time": "2024-12-25T19:00:11.398431",
     "exception": false,
     "start_time": "2024-12-25T18:58:33.829236",
     "status": "completed"
    },
    "tags": []
   },
   "outputs": [
    {
     "name": "stdout",
     "output_type": "stream",
     "text": [
      "Epoch 1/50\n",
      "\u001b[1m347/347\u001b[0m \u001b[32m━━━━━━━━━━━━━━━━━━━━\u001b[0m\u001b[37m\u001b[0m \u001b[1m4s\u001b[0m 6ms/step - loss: 0.0074\n",
      "Epoch 2/50\n",
      "\u001b[1m347/347\u001b[0m \u001b[32m━━━━━━━━━━━━━━━━━━━━\u001b[0m\u001b[37m\u001b[0m \u001b[1m2s\u001b[0m 5ms/step - loss: 5.2596e-05\n",
      "Epoch 3/50\n",
      "\u001b[1m347/347\u001b[0m \u001b[32m━━━━━━━━━━━━━━━━━━━━\u001b[0m\u001b[37m\u001b[0m \u001b[1m2s\u001b[0m 5ms/step - loss: 4.1316e-05\n",
      "Epoch 4/50\n",
      "\u001b[1m347/347\u001b[0m \u001b[32m━━━━━━━━━━━━━━━━━━━━\u001b[0m\u001b[37m\u001b[0m \u001b[1m2s\u001b[0m 5ms/step - loss: 4.8956e-05\n",
      "Epoch 5/50\n",
      "\u001b[1m347/347\u001b[0m \u001b[32m━━━━━━━━━━━━━━━━━━━━\u001b[0m\u001b[37m\u001b[0m \u001b[1m2s\u001b[0m 5ms/step - loss: 4.3058e-05\n",
      "Epoch 6/50\n",
      "\u001b[1m347/347\u001b[0m \u001b[32m━━━━━━━━━━━━━━━━━━━━\u001b[0m\u001b[37m\u001b[0m \u001b[1m2s\u001b[0m 5ms/step - loss: 4.1409e-05\n",
      "Epoch 7/50\n",
      "\u001b[1m347/347\u001b[0m \u001b[32m━━━━━━━━━━━━━━━━━━━━\u001b[0m\u001b[37m\u001b[0m \u001b[1m2s\u001b[0m 5ms/step - loss: 3.9806e-05\n",
      "Epoch 8/50\n",
      "\u001b[1m347/347\u001b[0m \u001b[32m━━━━━━━━━━━━━━━━━━━━\u001b[0m\u001b[37m\u001b[0m \u001b[1m2s\u001b[0m 5ms/step - loss: 3.5933e-05\n",
      "Epoch 9/50\n",
      "\u001b[1m347/347\u001b[0m \u001b[32m━━━━━━━━━━━━━━━━━━━━\u001b[0m\u001b[37m\u001b[0m \u001b[1m2s\u001b[0m 5ms/step - loss: 3.7436e-05\n",
      "Epoch 10/50\n",
      "\u001b[1m347/347\u001b[0m \u001b[32m━━━━━━━━━━━━━━━━━━━━\u001b[0m\u001b[37m\u001b[0m \u001b[1m2s\u001b[0m 5ms/step - loss: 3.4856e-05\n",
      "Epoch 11/50\n",
      "\u001b[1m347/347\u001b[0m \u001b[32m━━━━━━━━━━━━━━━━━━━━\u001b[0m\u001b[37m\u001b[0m \u001b[1m2s\u001b[0m 5ms/step - loss: 3.2417e-05\n",
      "Epoch 12/50\n",
      "\u001b[1m347/347\u001b[0m \u001b[32m━━━━━━━━━━━━━━━━━━━━\u001b[0m\u001b[37m\u001b[0m \u001b[1m2s\u001b[0m 6ms/step - loss: 2.9445e-05\n",
      "Epoch 13/50\n",
      "\u001b[1m347/347\u001b[0m \u001b[32m━━━━━━━━━━━━━━━━━━━━\u001b[0m\u001b[37m\u001b[0m \u001b[1m2s\u001b[0m 5ms/step - loss: 3.1511e-05\n",
      "Epoch 14/50\n",
      "\u001b[1m347/347\u001b[0m \u001b[32m━━━━━━━━━━━━━━━━━━━━\u001b[0m\u001b[37m\u001b[0m \u001b[1m2s\u001b[0m 6ms/step - loss: 2.9501e-05\n",
      "Epoch 15/50\n",
      "\u001b[1m347/347\u001b[0m \u001b[32m━━━━━━━━━━━━━━━━━━━━\u001b[0m\u001b[37m\u001b[0m \u001b[1m2s\u001b[0m 5ms/step - loss: 2.9602e-05\n",
      "Epoch 16/50\n",
      "\u001b[1m347/347\u001b[0m \u001b[32m━━━━━━━━━━━━━━━━━━━━\u001b[0m\u001b[37m\u001b[0m \u001b[1m2s\u001b[0m 5ms/step - loss: 2.8924e-05\n",
      "Epoch 17/50\n",
      "\u001b[1m347/347\u001b[0m \u001b[32m━━━━━━━━━━━━━━━━━━━━\u001b[0m\u001b[37m\u001b[0m \u001b[1m2s\u001b[0m 5ms/step - loss: 3.0479e-05\n",
      "Epoch 18/50\n",
      "\u001b[1m347/347\u001b[0m \u001b[32m━━━━━━━━━━━━━━━━━━━━\u001b[0m\u001b[37m\u001b[0m \u001b[1m2s\u001b[0m 5ms/step - loss: 2.8539e-05\n",
      "Epoch 19/50\n",
      "\u001b[1m347/347\u001b[0m \u001b[32m━━━━━━━━━━━━━━━━━━━━\u001b[0m\u001b[37m\u001b[0m \u001b[1m2s\u001b[0m 5ms/step - loss: 2.1732e-05\n",
      "Epoch 20/50\n",
      "\u001b[1m347/347\u001b[0m \u001b[32m━━━━━━━━━━━━━━━━━━━━\u001b[0m\u001b[37m\u001b[0m \u001b[1m2s\u001b[0m 5ms/step - loss: 2.5140e-05\n",
      "Epoch 21/50\n",
      "\u001b[1m347/347\u001b[0m \u001b[32m━━━━━━━━━━━━━━━━━━━━\u001b[0m\u001b[37m\u001b[0m \u001b[1m2s\u001b[0m 5ms/step - loss: 2.4468e-05\n",
      "Epoch 22/50\n",
      "\u001b[1m347/347\u001b[0m \u001b[32m━━━━━━━━━━━━━━━━━━━━\u001b[0m\u001b[37m\u001b[0m \u001b[1m2s\u001b[0m 5ms/step - loss: 2.3338e-05\n",
      "Epoch 23/50\n",
      "\u001b[1m347/347\u001b[0m \u001b[32m━━━━━━━━━━━━━━━━━━━━\u001b[0m\u001b[37m\u001b[0m \u001b[1m2s\u001b[0m 5ms/step - loss: 2.2533e-05\n",
      "Epoch 24/50\n",
      "\u001b[1m347/347\u001b[0m \u001b[32m━━━━━━━━━━━━━━━━━━━━\u001b[0m\u001b[37m\u001b[0m \u001b[1m2s\u001b[0m 5ms/step - loss: 2.2615e-05\n",
      "Epoch 25/50\n",
      "\u001b[1m347/347\u001b[0m \u001b[32m━━━━━━━━━━━━━━━━━━━━\u001b[0m\u001b[37m\u001b[0m \u001b[1m2s\u001b[0m 5ms/step - loss: 2.2266e-05\n",
      "Epoch 26/50\n",
      "\u001b[1m347/347\u001b[0m \u001b[32m━━━━━━━━━━━━━━━━━━━━\u001b[0m\u001b[37m\u001b[0m \u001b[1m2s\u001b[0m 5ms/step - loss: 2.2800e-05\n",
      "Epoch 27/50\n",
      "\u001b[1m347/347\u001b[0m \u001b[32m━━━━━━━━━━━━━━━━━━━━\u001b[0m\u001b[37m\u001b[0m \u001b[1m2s\u001b[0m 5ms/step - loss: 2.3279e-05\n",
      "Epoch 28/50\n",
      "\u001b[1m347/347\u001b[0m \u001b[32m━━━━━━━━━━━━━━━━━━━━\u001b[0m\u001b[37m\u001b[0m \u001b[1m2s\u001b[0m 5ms/step - loss: 2.0541e-05\n",
      "Epoch 29/50\n",
      "\u001b[1m347/347\u001b[0m \u001b[32m━━━━━━━━━━━━━━━━━━━━\u001b[0m\u001b[37m\u001b[0m \u001b[1m2s\u001b[0m 5ms/step - loss: 2.0788e-05\n",
      "Epoch 30/50\n",
      "\u001b[1m347/347\u001b[0m \u001b[32m━━━━━━━━━━━━━━━━━━━━\u001b[0m\u001b[37m\u001b[0m \u001b[1m2s\u001b[0m 5ms/step - loss: 2.1246e-05\n",
      "Epoch 31/50\n",
      "\u001b[1m347/347\u001b[0m \u001b[32m━━━━━━━━━━━━━━━━━━━━\u001b[0m\u001b[37m\u001b[0m \u001b[1m2s\u001b[0m 6ms/step - loss: 2.1186e-05\n",
      "Epoch 32/50\n",
      "\u001b[1m347/347\u001b[0m \u001b[32m━━━━━━━━━━━━━━━━━━━━\u001b[0m\u001b[37m\u001b[0m \u001b[1m2s\u001b[0m 6ms/step - loss: 2.0987e-05\n",
      "Epoch 33/50\n",
      "\u001b[1m347/347\u001b[0m \u001b[32m━━━━━━━━━━━━━━━━━━━━\u001b[0m\u001b[37m\u001b[0m \u001b[1m2s\u001b[0m 6ms/step - loss: 1.8813e-05\n",
      "Epoch 34/50\n",
      "\u001b[1m347/347\u001b[0m \u001b[32m━━━━━━━━━━━━━━━━━━━━\u001b[0m\u001b[37m\u001b[0m \u001b[1m2s\u001b[0m 5ms/step - loss: 2.0154e-05\n",
      "Epoch 35/50\n",
      "\u001b[1m347/347\u001b[0m \u001b[32m━━━━━━━━━━━━━━━━━━━━\u001b[0m\u001b[37m\u001b[0m \u001b[1m2s\u001b[0m 5ms/step - loss: 2.1831e-05\n",
      "Epoch 36/50\n",
      "\u001b[1m347/347\u001b[0m \u001b[32m━━━━━━━━━━━━━━━━━━━━\u001b[0m\u001b[37m\u001b[0m \u001b[1m2s\u001b[0m 5ms/step - loss: 2.1016e-05\n",
      "Epoch 37/50\n",
      "\u001b[1m347/347\u001b[0m \u001b[32m━━━━━━━━━━━━━━━━━━━━\u001b[0m\u001b[37m\u001b[0m \u001b[1m2s\u001b[0m 5ms/step - loss: 1.8653e-05\n",
      "Epoch 38/50\n",
      "\u001b[1m347/347\u001b[0m \u001b[32m━━━━━━━━━━━━━━━━━━━━\u001b[0m\u001b[37m\u001b[0m \u001b[1m2s\u001b[0m 6ms/step - loss: 1.8322e-05\n",
      "Epoch 39/50\n",
      "\u001b[1m347/347\u001b[0m \u001b[32m━━━━━━━━━━━━━━━━━━━━\u001b[0m\u001b[37m\u001b[0m \u001b[1m2s\u001b[0m 5ms/step - loss: 2.1427e-05\n",
      "Epoch 40/50\n",
      "\u001b[1m347/347\u001b[0m \u001b[32m━━━━━━━━━━━━━━━━━━━━\u001b[0m\u001b[37m\u001b[0m \u001b[1m2s\u001b[0m 5ms/step - loss: 1.6325e-05\n",
      "Epoch 41/50\n",
      "\u001b[1m347/347\u001b[0m \u001b[32m━━━━━━━━━━━━━━━━━━━━\u001b[0m\u001b[37m\u001b[0m \u001b[1m2s\u001b[0m 5ms/step - loss: 1.8765e-05\n",
      "Epoch 42/50\n",
      "\u001b[1m347/347\u001b[0m \u001b[32m━━━━━━━━━━━━━━━━━━━━\u001b[0m\u001b[37m\u001b[0m \u001b[1m2s\u001b[0m 5ms/step - loss: 1.7121e-05\n",
      "Epoch 43/50\n",
      "\u001b[1m347/347\u001b[0m \u001b[32m━━━━━━━━━━━━━━━━━━━━\u001b[0m\u001b[37m\u001b[0m \u001b[1m2s\u001b[0m 5ms/step - loss: 1.7570e-05\n",
      "Epoch 44/50\n",
      "\u001b[1m347/347\u001b[0m \u001b[32m━━━━━━━━━━━━━━━━━━━━\u001b[0m\u001b[37m\u001b[0m \u001b[1m2s\u001b[0m 5ms/step - loss: 1.8179e-05\n",
      "Epoch 45/50\n",
      "\u001b[1m347/347\u001b[0m \u001b[32m━━━━━━━━━━━━━━━━━━━━\u001b[0m\u001b[37m\u001b[0m \u001b[1m2s\u001b[0m 5ms/step - loss: 1.9878e-05\n",
      "Epoch 46/50\n",
      "\u001b[1m347/347\u001b[0m \u001b[32m━━━━━━━━━━━━━━━━━━━━\u001b[0m\u001b[37m\u001b[0m \u001b[1m2s\u001b[0m 5ms/step - loss: 1.8821e-05\n",
      "Epoch 47/50\n",
      "\u001b[1m347/347\u001b[0m \u001b[32m━━━━━━━━━━━━━━━━━━━━\u001b[0m\u001b[37m\u001b[0m \u001b[1m2s\u001b[0m 5ms/step - loss: 1.5870e-05\n",
      "Epoch 48/50\n",
      "\u001b[1m347/347\u001b[0m \u001b[32m━━━━━━━━━━━━━━━━━━━━\u001b[0m\u001b[37m\u001b[0m \u001b[1m2s\u001b[0m 6ms/step - loss: 1.6330e-05\n",
      "Epoch 49/50\n",
      "\u001b[1m347/347\u001b[0m \u001b[32m━━━━━━━━━━━━━━━━━━━━\u001b[0m\u001b[37m\u001b[0m \u001b[1m2s\u001b[0m 6ms/step - loss: 1.8851e-05\n",
      "Epoch 50/50\n",
      "\u001b[1m347/347\u001b[0m \u001b[32m━━━━━━━━━━━━━━━━━━━━\u001b[0m\u001b[37m\u001b[0m \u001b[1m2s\u001b[0m 5ms/step - loss: 1.6762e-05\n"
     ]
    },
    {
     "data": {
      "text/plain": [
       "<keras.src.callbacks.history.History at 0x7c1989c887f0>"
      ]
     },
     "execution_count": 9,
     "metadata": {},
     "output_type": "execute_result"
    }
   ],
   "source": [
    "\n",
    "\n",
    "# Model tanımlama\n",
    "model = Sequential([\n",
    "    LSTM(50, activation='relu', input_shape=(n_steps, 1)),\n",
    "    Dense(1)\n",
    "])\n",
    "\n",
    "# Model derleme\n",
    "model.compile(optimizer='adam', loss='mse')\n",
    "\n",
    "# Veriyi yeniden şekillendirme\n",
    "X = X.reshape((X.shape[0], X.shape[1], 1))\n",
    "\n",
    "# Modeli eğitme\n",
    "model.fit(X, y, epochs=50, batch_size=32)\n"
   ]
  },
  {
   "cell_type": "code",
   "execution_count": 10,
   "id": "d1dd97c7",
   "metadata": {
    "execution": {
     "iopub.execute_input": "2024-12-25T19:00:11.621729Z",
     "iopub.status.busy": "2024-12-25T19:00:11.621342Z",
     "iopub.status.idle": "2024-12-25T19:00:11.839391Z",
     "shell.execute_reply": "2024-12-25T19:00:11.838241Z"
    },
    "papermill": {
     "duration": 0.331976,
     "end_time": "2024-12-25T19:00:11.841349",
     "exception": false,
     "start_time": "2024-12-25T19:00:11.509373",
     "status": "completed"
    },
    "tags": []
   },
   "outputs": [
    {
     "name": "stdout",
     "output_type": "stream",
     "text": [
      "\u001b[1m1/1\u001b[0m \u001b[32m━━━━━━━━━━━━━━━━━━━━\u001b[0m\u001b[37m\u001b[0m \u001b[1m0s\u001b[0m 156ms/step\n",
      "Tahmin: [[1.0065992]]\n"
     ]
    }
   ],
   "source": [
    "# Örnek bir tahmin\n",
    "y_pred = model.predict(X[-1].reshape(1, n_steps, 1))\n",
    "print(\"Tahmin:\", y_pred)\n"
   ]
  },
  {
   "cell_type": "code",
   "execution_count": 11,
   "id": "3979a469",
   "metadata": {
    "execution": {
     "iopub.execute_input": "2024-12-25T19:00:12.068157Z",
     "iopub.status.busy": "2024-12-25T19:00:12.067746Z",
     "iopub.status.idle": "2024-12-25T19:00:12.470485Z",
     "shell.execute_reply": "2024-12-25T19:00:12.468872Z"
    },
    "papermill": {
     "duration": 0.51647,
     "end_time": "2024-12-25T19:00:12.472001",
     "exception": true,
     "start_time": "2024-12-25T19:00:11.955531",
     "status": "failed"
    },
    "tags": []
   },
   "outputs": [
    {
     "ename": "NameError",
     "evalue": "name 'train_predictions' is not defined",
     "output_type": "error",
     "traceback": [
      "\u001b[0;31m---------------------------------------------------------------------------\u001b[0m",
      "\u001b[0;31mNameError\u001b[0m                                 Traceback (most recent call last)",
      "\u001b[0;32m<ipython-input-11-dedc7a4cd707>\u001b[0m in \u001b[0;36m<cell line: 6>\u001b[0;34m()\u001b[0m\n\u001b[1;32m      4\u001b[0m \u001b[0;34m\u001b[0m\u001b[0m\n\u001b[1;32m      5\u001b[0m \u001b[0;31m# Eğitim tahminlerini tersine dönüştürme\u001b[0m\u001b[0;34m\u001b[0m\u001b[0;34m\u001b[0m\u001b[0m\n\u001b[0;32m----> 6\u001b[0;31m \u001b[0mtrain_predictions_rescaled\u001b[0m \u001b[0;34m=\u001b[0m \u001b[0mclose_scaler\u001b[0m\u001b[0;34m.\u001b[0m\u001b[0minverse_transform\u001b[0m\u001b[0;34m(\u001b[0m\u001b[0mtrain_predictions\u001b[0m\u001b[0;34m)\u001b[0m\u001b[0;34m\u001b[0m\u001b[0;34m\u001b[0m\u001b[0m\n\u001b[0m\u001b[1;32m      7\u001b[0m \u001b[0my_rescaled\u001b[0m \u001b[0;34m=\u001b[0m \u001b[0mclose_scaler\u001b[0m\u001b[0;34m.\u001b[0m\u001b[0minverse_transform\u001b[0m\u001b[0;34m(\u001b[0m\u001b[0my\u001b[0m\u001b[0;34m.\u001b[0m\u001b[0mreshape\u001b[0m\u001b[0;34m(\u001b[0m\u001b[0;34m-\u001b[0m\u001b[0;36m1\u001b[0m\u001b[0;34m,\u001b[0m \u001b[0;36m1\u001b[0m\u001b[0;34m)\u001b[0m\u001b[0;34m)\u001b[0m\u001b[0;34m\u001b[0m\u001b[0;34m\u001b[0m\u001b[0m\n\u001b[1;32m      8\u001b[0m \u001b[0;34m\u001b[0m\u001b[0m\n",
      "\u001b[0;31mNameError\u001b[0m: name 'train_predictions' is not defined"
     ]
    }
   ],
   "source": [
    "# 'Close' için ayrı bir scaler\n",
    "close_scaler = MinMaxScaler()\n",
    "close_scaled = close_scaler.fit_transform(df[['Close']])\n",
    "\n",
    "# Eğitim tahminlerini tersine dönüştürme\n",
    "train_predictions_rescaled = close_scaler.inverse_transform(train_predictions)\n",
    "y_rescaled = close_scaler.inverse_transform(y.reshape(-1, 1))\n",
    "\n",
    "\n",
    "plt.figure(figsize=(12, 6))\n",
    "plt.plot(y_rescaled, label=\"Gerçek Değerler\", color='blue')\n",
    "plt.plot(train_predictions_rescaled, label=\"Tahminler\", color='orange', linestyle='dashed')\n",
    "plt.title(\"Eğitim Verisi Tahminleri\")\n",
    "plt.xlabel(\"Zaman Adımları\")\n",
    "plt.ylabel(\"Değer\")\n",
    "plt.legend()\n",
    "plt.show()\n",
    "\n"
   ]
  },
  {
   "cell_type": "code",
   "execution_count": null,
   "id": "3adb4841",
   "metadata": {
    "execution": {
     "iopub.execute_input": "2024-12-25T18:49:34.055806Z",
     "iopub.status.busy": "2024-12-25T18:49:34.055539Z",
     "iopub.status.idle": "2024-12-25T18:51:05.694062Z",
     "shell.execute_reply": "2024-12-25T18:51:05.692528Z",
     "shell.execute_reply.started": "2024-12-25T18:49:34.055784Z"
    },
    "papermill": {
     "duration": null,
     "end_time": null,
     "exception": null,
     "start_time": null,
     "status": "pending"
    },
    "tags": []
   },
   "outputs": [],
   "source": [
    "# Sadece 'Close' sütununu kullanarak ölçeklendirme\n",
    "close_scaler = MinMaxScaler()\n",
    "close_scaled = close_scaler.fit_transform(df[['Close']])\n",
    "\n",
    "# Model eğitimi için veri hazırlama\n",
    "n_steps = 30  # Zaman adımı sayısı\n",
    "X, y = [], []\n",
    "\n",
    "for i in range(n_steps, len(close_scaled)):\n",
    "    X.append(close_scaled[i-n_steps:i, 0])  # Son 30 adımı al\n",
    "    y.append(close_scaled[i, 0])  # Hedef değer\n",
    "\n",
    "X, y = np.array(X), np.array(y)\n",
    "X = X.reshape((X.shape[0], X.shape[1], 1))\n",
    "\n",
    "\n",
    "\n",
    "model = Sequential([\n",
    "    LSTM(50, activation='relu', input_shape=(n_steps, 1)),\n",
    "    Dense(1)\n",
    "])\n",
    "model.compile(optimizer='adam', loss='mse')\n",
    "model.fit(X, y, epochs=20, verbose=1)\n",
    "\n",
    "# Eğitim tahminleri\n",
    "train_predictions = model.predict(X)\n",
    "\n",
    "# Ters ölçeklendirme\n",
    "train_predictions_rescaled = close_scaler.inverse_transform(train_predictions)\n",
    "y_rescaled = close_scaler.inverse_transform(y.reshape(-1, 1))\n",
    "\n",
    "# Grafik çizimi\n",
    "plt.figure(figsize=(12, 6))\n",
    "plt.plot(y_rescaled, label=\"Gerçek Değerler\", color='blue')\n",
    "plt.plot(train_predictions_rescaled, label=\"Tahminler\", color='orange', linestyle='dashed')\n",
    "plt.title(\"Eğitim Verisi Tahminleri\")\n",
    "plt.xlabel(\"Zaman Adımları\")\n",
    "plt.ylabel(\"Fiyat\")\n",
    "plt.legend()\n",
    "plt.show()"
   ]
  },
  {
   "cell_type": "code",
   "execution_count": null,
   "id": "082c06ee",
   "metadata": {
    "execution": {
     "iopub.execute_input": "2024-12-25T18:51:05.696042Z",
     "iopub.status.busy": "2024-12-25T18:51:05.695592Z",
     "iopub.status.idle": "2024-12-25T18:51:05.718115Z",
     "shell.execute_reply": "2024-12-25T18:51:05.716655Z",
     "shell.execute_reply.started": "2024-12-25T18:51:05.695996Z"
    },
    "papermill": {
     "duration": null,
     "end_time": null,
     "exception": null,
     "start_time": null,
     "status": "pending"
    },
    "tags": []
   },
   "outputs": [],
   "source": [
    "# 30 günlük hareketli ortalama ve volatilite (standart sapma)\n",
    "df['Moving_Avg'] = df['Close'].rolling(window=30).mean()\n",
    "df['Volatility'] = df['Close'].rolling(window=30).std()\n",
    "\n",
    "# Eksik değerleri kaldırıyoruz\n",
    "df = df.dropna()\n",
    "\n",
    "# İlk 5 satırı kontrol edelim\n",
    "print(df.head())\n"
   ]
  },
  {
   "cell_type": "code",
   "execution_count": null,
   "id": "53f95e1c",
   "metadata": {
    "execution": {
     "iopub.execute_input": "2024-12-25T18:51:05.720268Z",
     "iopub.status.busy": "2024-12-25T18:51:05.719845Z",
     "iopub.status.idle": "2024-12-25T18:51:05.734416Z",
     "shell.execute_reply": "2024-12-25T18:51:05.733358Z",
     "shell.execute_reply.started": "2024-12-25T18:51:05.720225Z"
    },
    "papermill": {
     "duration": null,
     "end_time": null,
     "exception": null,
     "start_time": null,
     "status": "pending"
    },
    "tags": []
   },
   "outputs": [],
   "source": [
    "from sklearn.preprocessing import StandardScaler\n",
    "\n",
    "# Özellikleri ölçeklendiriyoruz\n",
    "scaler = StandardScaler()\n",
    "scaled_data = scaler.fit_transform(df[['Close', 'Moving_Avg', 'Volatility']])\n",
    "\n",
    "# Ölçeklendirilmiş verinin ilk 5 satırını kontrol edelim\n",
    "print(scaled_data[:5])\n"
   ]
  },
  {
   "cell_type": "code",
   "execution_count": null,
   "id": "0e3c1a2d",
   "metadata": {
    "execution": {
     "iopub.execute_input": "2024-12-25T18:51:05.735825Z",
     "iopub.status.busy": "2024-12-25T18:51:05.735445Z",
     "iopub.status.idle": "2024-12-25T18:51:07.360059Z",
     "shell.execute_reply": "2024-12-25T18:51:07.358833Z",
     "shell.execute_reply.started": "2024-12-25T18:51:05.735796Z"
    },
    "papermill": {
     "duration": null,
     "end_time": null,
     "exception": null,
     "start_time": null,
     "status": "pending"
    },
    "tags": []
   },
   "outputs": [],
   "source": [
    "\n",
    "# Özellikleri ölçeklendiriyoruz\n",
    "scaler = StandardScaler()\n",
    "scaled_data = scaler.fit_transform(df[['Close', 'Moving_Avg', 'Volatility']])\n",
    "\n",
    "# K-means kümelemesi\n",
    "kmeans = KMeans(n_clusters=5, random_state=42)\n",
    "df['Cluster'] = kmeans.fit_predict(scaled_data)\n",
    "\n",
    "# Küme sonuçlarını görselleştirelim\n",
    "import matplotlib.pyplot as plt\n",
    "\n",
    "plt.figure(figsize=(14, 7))\n",
    "\n",
    "# Her bir kümeyi farklı renklerle çizelim\n",
    "for cluster in range(5):\n",
    "    cluster_data = df[df['Cluster'] == cluster]\n",
    "    plt.plot(cluster_data.index, cluster_data['Close'], label=f'Cluster {cluster}')\n",
    "\n",
    "plt.title(\"Zaman Serisi Kümelemesi (K-means)\")\n",
    "plt.xlabel(\"Tarih\")\n",
    "plt.ylabel(\"Fiyat\")\n",
    "plt.legend()\n",
    "plt.show()\n"
   ]
  }
 ],
 "metadata": {
  "kaggle": {
   "accelerator": "none",
   "dataSources": [
    {
     "datasetId": 6300199,
     "sourceId": 10196402,
     "sourceType": "datasetVersion"
    }
   ],
   "dockerImageVersionId": 30822,
   "isGpuEnabled": false,
   "isInternetEnabled": true,
   "language": "python",
   "sourceType": "notebook"
  },
  "kernelspec": {
   "display_name": "Python 3",
   "language": "python",
   "name": "python3"
  },
  "language_info": {
   "codemirror_mode": {
    "name": "ipython",
    "version": 3
   },
   "file_extension": ".py",
   "mimetype": "text/x-python",
   "name": "python",
   "nbconvert_exporter": "python",
   "pygments_lexer": "ipython3",
   "version": "3.10.12"
  },
  "papermill": {
   "default_parameters": {},
   "duration": 115.406869,
   "end_time": "2024-12-25T19:00:14.367733",
   "environment_variables": {},
   "exception": true,
   "input_path": "__notebook__.ipynb",
   "output_path": "__notebook__.ipynb",
   "parameters": {},
   "start_time": "2024-12-25T18:58:18.960864",
   "version": "2.6.0"
  }
 },
 "nbformat": 4,
 "nbformat_minor": 5
}
